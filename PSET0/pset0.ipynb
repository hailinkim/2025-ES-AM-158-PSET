{
 "cells": [
  {
   "cell_type": "markdown",
   "id": "57af7aa1",
   "metadata": {},
   "source": [
    "\n",
    "# Problem Set 0 — Prior Knowledge Warm‑Up\n",
    "\n",
    "**Goal.** This notebook helps you self‑check the prerequisite topics:\n",
    "- Python / Jupyter / NumPy\n",
    "- Linear Algebra\n",
    "- Calculus\n",
    "- Probability / Statistics\n",
    "- Optimization (Convex function, Quadratic Program, KKT condition)\n",
    "\n",
    "Each section has short tasks. Some cells include light tests. It's okay if you can't finish everything right away—use this to guide your review."
   ]
  },
  {
   "cell_type": "markdown",
   "id": "74f86066",
   "metadata": {},
   "source": [
    "## 0) Jupyter notebook\n",
    "\n",
    "# Different size of title\n",
    "## Different size of title\n",
    "### Different size of title\n",
    "#### Different size of title\n",
    "\n",
    "$$x^2$$\n",
    "\n",
    "$$\\begin{align}\n",
    "    &\\min_x f(x) \\\\\n",
    "    s.t.~~~& g(x) = 0\n",
    "\\end{align}$$"
   ]
  },
  {
   "cell_type": "code",
   "execution_count": 1,
   "id": "10867f05",
   "metadata": {},
   "outputs": [
    {
     "name": "stdout",
     "output_type": "stream",
     "text": [
      "1 1.5 Hello\n"
     ]
    }
   ],
   "source": [
    "# Data type\n",
    "integar_a = 1\n",
    "float_b = 1.5\n",
    "string_c = \"Hello\"\n",
    "print(integar_a, float_b, string_c)"
   ]
  },
  {
   "cell_type": "code",
   "execution_count": 2,
   "id": "452b1f21",
   "metadata": {},
   "outputs": [
    {
     "name": "stdout",
     "output_type": "stream",
     "text": [
      "[1, '123', [1, 2, 3, 4], (1+1j)]\n",
      "The first element of list l is 1\n",
      "After append, l is [1, '123', [1, 2, 3, 4], (1+1j), 5]\n"
     ]
    }
   ],
   "source": [
    "# List\n",
    "l = [integar_a, '123', [1, 2, 3, 4 ], 1 + 1j]\n",
    "print(l)\n",
    "print(\"The first element of list l is\", l[0])\n",
    "l.append(5)\n",
    "print(\"After append, l is\", l)"
   ]
  },
  {
   "cell_type": "code",
   "execution_count": 3,
   "id": "8bdd1ada",
   "metadata": {},
   "outputs": [
    {
     "name": "stdout",
     "output_type": "stream",
     "text": [
      "[2, 3, 4]\n",
      "[2, 3, 4, 5, 6, 7, 8, 9]\n",
      "[0, 1, 2, 3, 4]\n",
      "[7, 8, 9]\n",
      "[0, 1, 2, 3, 4, 5, 6]\n",
      "[0, 2, 4, 6, 8]\n"
     ]
    }
   ],
   "source": [
    "# index\n",
    "l = [0,1,2,3,4,5,6,7,8,9] \n",
    "print(l[2:5]) # [2, 3, 4]\n",
    "print(l[2:])  # [2, 3, 4, 5, 6, 7, 8, 9]\n",
    "print(l[:5])  # [0, 1, 2, 3, 4]\n",
    "print(l[-3:]) # [7, 8, 9]\n",
    "print(l[:-3]) # [0, 1, 2, 3, 4, 5, 6]\n",
    "print(l[::2])   # [0, 2, 4, 6, 8]"
   ]
  },
  {
   "cell_type": "markdown",
   "id": "3f79a0cb",
   "metadata": {},
   "source": [
    "\n",
    "## 1) Python / Jupyter / NumPy\n",
    "\n",
    "Warm‑up tasks to get comfortable with arrays, broadcasting, vectorization, and plotting.\n"
   ]
  },
  {
   "cell_type": "code",
   "execution_count": 7,
   "id": "47d8f018",
   "metadata": {},
   "outputs": [],
   "source": [
    "\n",
    "# --- Setup & helpers (run this first) ---\n",
    "import math\n",
    "import numpy as np\n",
    "import matplotlib.pyplot as plt\n",
    "\n",
    "np.set_printoptions(precision=4, suppress=True)\n",
    "rng = np.random.default_rng(0)\n"
   ]
  },
  {
   "cell_type": "code",
   "execution_count": null,
   "id": "a0c78ed0",
   "metadata": {},
   "outputs": [
    {
     "name": "stdout",
     "output_type": "stream",
     "text": [
      "[0 1 2 3 4] [ 0  1  4  9 16] 100 [ 9 16]\n"
     ]
    }
   ],
   "source": [
    "#### CODING EXERCISES ####\n",
    "# 1.a) Create a length‑5 NumPy array `a` with values [0, 1, 2, 3, 4]\n",
    "# TODO: set a = ...\n",
    "a = np.array([0,1,2,3,4])\n",
    "\n",
    "# 1.b) Create another array `b` of the same length where b[i] = a[i]^2 (vectorized).\n",
    "# TODO: set b = ...\n",
    "b = a**2\n",
    "\n",
    "# 1.c) Compute the dot product of `a` and `b` and store in `ab_dot`.\n",
    "# TODO: set ab_dot = ...\n",
    "ab_dot = a @ b\n",
    "\n",
    "# 1.d) Use boolean indexing to select elements of `b` that are > 5. Store in `b_gt_5`.\n",
    "# TODO: set b_gt_5 = ...\n",
    "b_gt_5 = b[b>5]\n",
    "\n",
    "print(a, b, ab_dot, b_gt_5)\n"
   ]
  },
  {
   "cell_type": "code",
   "execution_count": 15,
   "id": "65e4e964",
   "metadata": {},
   "outputs": [
    {
     "data": {
      "text/plain": [
       "Text(0, 0.5, 'y')"
      ]
     },
     "execution_count": 15,
     "metadata": {},
     "output_type": "execute_result"
    },
    {
     "data": {
      "image/png": "[encoded data removed]",
      "text/plain": [
       "<Figure size 400x300 with 1 Axes>"
      ]
     },
     "metadata": {},
     "output_type": "display_data"
    }
   ],
   "source": [
    "#### CODING EXERCISES ####\n",
    "# 1.e) Plotting (Matplotlib only — no seaborn).\n",
    "# TODO: Plot y = sin(x) for x in [0, 2π]. Create a single figure.\n",
    "# Hint: Use np.linspace, plt.figure, plt.plot, plt.title\n",
    "x = np.linspace(0, 2*np.pi, 300)\n",
    "y = np.sin(x)\n",
    "plt.figure(figsize=(4,3))\n",
    "plt.plot(x,y)\n",
    "plt.title(\"y=sin(x), x in [0,2π]\")\n",
    "plt.xlabel(\"x\")\n",
    "plt.ylabel(\"y\")"
   ]
  },
  {
   "cell_type": "markdown",
   "id": "c5742567",
   "metadata": {},
   "source": [
    "\n",
    "## 2) Linear Algebra\n",
    "\n",
    "**Topics:** norms, matrix multiplication, eigen/SVD.\n"
   ]
  },
  {
   "cell_type": "markdown",
   "id": "3c8c9ef5",
   "metadata": {},
   "source": [
    "#### Norms\n",
    "Let $V$ be a vector space (e.g. $\\mathbb{R}^n$ or $\\mathbb{C}^n$).  \n",
    "A function\n",
    "$$\\|\\cdot\\| : V \\to [0,\\infty)$$\n",
    "is called a **norm** on $V$ if for all $\\mathbf{x}, \\mathbf{y} \\in V$ and scalars $\\alpha$, the following hold:\n",
    "\n",
    "1. **Non-negativity and definiteness** \n",
    "   $$\\|\\mathbf{x}\\| \\geq 0, \n",
    "   \\quad \\|\\mathbf{x}\\| = 0 \\iff \\mathbf{x} = \\mathbf{0}$$\n",
    "\n",
    "2. **Homogeneity**  \n",
    "   $$\\|\\alpha \\mathbf{x}\\| = |\\alpha| \\, \\|\\mathbf{x}\\|$$\n",
    "\n",
    "3. **Triangle inequality**  \n",
    "   $$\\|\\mathbf{x} + \\mathbf{y}\\| \\leq \\|\\mathbf{x}\\| + \\|\\mathbf{y}\\|$$\n",
    "\n",
    "A common class of norms are the $\\ell_p$ norms, defined as\n",
    "$$\n",
    "\\|\\mathbf{x}\\|_p = \\left( \\sum_{i=1}^n |x_i|^p \\right)^{1/p}, \\quad (1 \\leq p < \\infty),\n",
    "$$\n",
    "and\n",
    "$$\n",
    "\\|\\mathbf{x}\\|_\\infty = \\max_{1 \\leq i \\leq n} |x_i|.\n",
    "$$"
   ]
  },
  {
   "cell_type": "markdown",
   "id": "10df47e2",
   "metadata": {},
   "source": [
    "PAPER and PEN EXERCISES\n",
    "\n",
    "2.a) **TODO**: Give the formulation of $l_2$ norm of a vector $x = [x_1,x_2,x_3,x_4,x_5]$\n",
    "\n",
    "$\\|x\\|_2 = \\sqrt{x_1^2 + x_2^2 + x_3^2 + x_4^2 + x_5^2}$\n",
    "\n",
    "2.b) Give the $l_2$ norm of a vector $y = [1,5,3,1]$\n",
    "\n",
    "$\\|y\\|_2 = 6$"
   ]
  },
  {
   "cell_type": "code",
   "execution_count": 16,
   "id": "564d8da5",
   "metadata": {},
   "outputs": [
    {
     "name": "stdout",
     "output_type": "stream",
     "text": [
      "7.416198487095663\n"
     ]
    }
   ],
   "source": [
    "#### CODING EXERCISES ####\n",
    "# 2.c) Norms in numpy （Hint: np.linalg.norm）\n",
    "x = np.array([1,2,3,4,5])\n",
    "x_norm = np.linalg.norm(x)\n",
    "print(x_norm)  "
   ]
  },
  {
   "cell_type": "markdown",
   "id": "69126626",
   "metadata": {},
   "source": [
    "#### Matrix Operations\n",
    "\n",
    "A **matrix** is a rectangular array of numbers with $m$ rows and $n$ columns.  \n",
    "For example, $A \\in \\mathbb{R}^{m \\times n}$ can be written as\n",
    "$$\n",
    "A =\n",
    "\\begin{bmatrix}\n",
    "a_{11} & a_{12} & \\cdots & a_{1n} \\\\\n",
    "a_{21} & a_{22} & \\cdots & a_{2n} \\\\\n",
    "\\vdots & \\vdots & \\ddots & \\vdots \\\\\n",
    "a_{m1} & a_{m2} & \\cdots & a_{mn}\n",
    "\\end{bmatrix}.\n",
    "$$\n",
    "\n",
    "- **Addition**: If $A, B \\in \\mathbb{R}^{m \\times n}$, then\n",
    "$$\n",
    "A + B = (a_{ij} + b_{ij})_{m \\times n}.\n",
    "$$\n",
    "\n",
    "- **Scalar multiplication**: For $\\alpha \\in \\mathbb{R}$,\n",
    "$$\n",
    "\\alpha A = (\\alpha \\cdot a_{ij})_{m \\times n}.\n",
    "$$\n",
    "\n",
    "- **Matrix multiplication**: If $A \\in \\mathbb{R}^{m \\times n}$ and $B \\in \\mathbb{R}^{n \\times p}$, then\n",
    "$$\n",
    "C = AB \\in \\mathbb{R}^{m \\times p}, \\quad c_{ij} = \\sum_{k=1}^n a_{ik} b_{kj}.\n",
    "$$\n"
   ]
  },
  {
   "cell_type": "code",
   "execution_count": 17,
   "id": "454e7683",
   "metadata": {},
   "outputs": [
    {
     "name": "stdout",
     "output_type": "stream",
     "text": [
      "AB =\n",
      " [[19 22]\n",
      " [43 50]]\n"
     ]
    }
   ],
   "source": [
    "#### CODING EXERCISES ####\n",
    "# 2.d) Matrix multiplication in numpy\n",
    "A = np.array([[1, 2],\n",
    "              [3, 4]])\n",
    "\n",
    "B = np.array([[5, 6],\n",
    "              [7, 8]])\n",
    "\n",
    "# TODO: C = AB\n",
    "C = A @ B\n",
    "print(\"AB =\\n\", C)\n"
   ]
  },
  {
   "cell_type": "markdown",
   "id": "4e4e2536",
   "metadata": {},
   "source": [
    "#### Eigenvalues and Eigenvectors\n",
    "\n",
    "Let $A \\in \\mathbb{R}^{n \\times n}$ be a square matrix.  \n",
    "A scalar $\\lambda \\in \\mathbb{R}$ is called an **eigenvalue** of $A$ if there exists a nonzero vector $\\mathbf{v} \\in \\mathbb{R}^n$ such that\n",
    "$$\n",
    "A \\mathbf{v} = \\lambda \\mathbf{v}.\n",
    "$$\n",
    "Here, $\\mathbf{v}$ is called an **eigenvector** corresponding to $\\lambda$.\n"
   ]
  },
  {
   "cell_type": "markdown",
   "id": "0aedaa55",
   "metadata": {},
   "source": [
    "PAPER and PEN EXERCISES\n",
    "\n",
    "2.e) **TODO**: Give an eigenvalue and corresponding eigenvector of matrix \n",
    "\n",
    "$A = \\begin{bmatrix}1 & 2 \\\\ 2 & 1\\end{bmatrix}$.\n",
    "\n",
    "$\\lambda =$ -1 or 3\n",
    "\n",
    "For $\\lambda = -1$, $\\left\\{\\begin{bmatrix} t \\\\ -t \\end{bmatrix}: t \\in \\mathbb{R}\\right\\}.$ Hence, $v = \\begin{bmatrix}1 \\\\ -1\\end{bmatrix}$\n",
    "\n",
    "For $\\lambda = 3$, $\\left\\{\\begin{bmatrix} t \\\\ t \\end{bmatrix}: t \\in \\mathbb{R}\\right\\}.$ Hence, $v = \\begin{bmatrix}1 \\\\ 1\\end{bmatrix}$"
   ]
  },
  {
   "cell_type": "code",
   "execution_count": 21,
   "id": "1c596deb",
   "metadata": {},
   "outputs": [
    {
     "name": "stdout",
     "output_type": "stream",
     "text": [
      "Eigenvalues: [ 3. -1.]\n",
      "Eigenvectors:\n",
      " [[ 0.7071 -0.7071]\n",
      " [ 0.7071  0.7071]]\n"
     ]
    }
   ],
   "source": [
    "#### CODING EXERCISES ####\n",
    "# 2.f) Eigen value in numpy\n",
    "A = np.array([[1, 2],\n",
    "              [2, 1]])\n",
    "\n",
    "eigvals, eigvecs = np.linalg.eig(A)\n",
    "\n",
    "print(\"Eigenvalues:\", eigvals)\n",
    "print(\"Eigenvectors:\\n\", eigvecs)"
   ]
  },
  {
   "cell_type": "markdown",
   "id": "9da0a52d",
   "metadata": {},
   "source": [
    "#### Positive Semidefinite (PSD) Matrices\n",
    "\n",
    "**Definition.** A symmetric matrix $A\\in\\mathbb{R}^{n\\times n}$ is **positive semidefinite (PSD)** if\n",
    "$$\n",
    "\\mathbf{x}^\\top A\\,\\mathbf{x}\\ \\ge 0\\quad \\text{for all }\\mathbf{x}\\in\\mathbb{R}^n.\n",
    "$$\n",
    "It is **positive definite (PD)** if the inequality is strict for all $\\mathbf{x}\\ne \\mathbf{0}$.\n",
    "\n",
    "**Equivalent characterizations (PSD).**\n",
    "- All eigenvalues of $A$ are nonnegative: $\\lambda_i(A)\\ge 0$.\n",
    "- $A$ is a Gram matrix: there exists $B\\in\\mathbb{R}^{m\\times n}$ with $A=B^\\top B$.\n",
    "- All principal submatrices of a PSD matrix are PSD."
   ]
  },
  {
   "cell_type": "markdown",
   "id": "09ccf5ca",
   "metadata": {},
   "source": [
    "#### PAPER and PEN EXERCISES\n",
    "\n",
    "2.g) **TODO**:\n",
    "$$\n",
    "A=\\begin{bmatrix}2&-1\\\\-1&2\\end{bmatrix},\\quad\n",
    "B=\\begin{bmatrix}1&0&0\\\\0&0&0\\\\0&0&2\\end{bmatrix},\\quad\n",
    "$$\n",
    "- (g.1) Compute eigenvalues of each matrix and decide PSD/PD/indefinite.  \n",
    "$\\lambda = 1 or 3.$ Hence, PD.\n",
    "  \n",
    "   \n",
    "- (g.2) For $B$, verify directly that $\\mathbf{x}^\\top B\\,\\mathbf{x}\\ge 0$ for all $\\mathbf{x}$.\n"
   ]
  },
  {
   "cell_type": "markdown",
   "id": "64b3da1d",
   "metadata": {},
   "source": [
    "\n",
    "## 3) Calculus\n",
    "\n",
    "**Topics:** gradients, Hessians;\n"
   ]
  },
  {
   "cell_type": "markdown",
   "id": "c993487d",
   "metadata": {},
   "source": [
    "#### Gradient & Hessian \n",
    "\n",
    "- **Gradient.** For a differentiable scalar field $f: \\mathbb{R}^n\\to\\mathbb{R}$,\n",
    "  \n",
    "$$\n",
    "\\nabla f(\\mathbf{x})=\n",
    "\\begin{bmatrix}\n",
    "\\frac{\\partial f}{\\partial x_1}(\\mathbf{x})\\\\\n",
    "\\vdots\\\\\n",
    "\\frac{\\partial f}{\\partial x_n}(\\mathbf{x})\n",
    "\\end{bmatrix},\n",
    "\\qquad\n",
    "$$\n",
    "\n",
    "- **Hessian.** If second partials exist,\n",
    "$$\n",
    "\\nabla^2 f(\\mathbf{x})=\\left[\\frac{\\partial^2 f}{\\partial x_i\\,\\partial x_j}(\\mathbf{x})\\right]_{i,j=1}^n.\n",
    "$$\n"
   ]
  },
  {
   "cell_type": "markdown",
   "id": "6b473cef",
   "metadata": {},
   "source": [
    "PAPER and PEN EXERCISES\n",
    "\n",
    "3.a) **TODO**: For $f(\\mathbf{x})=\\tfrac12\\,\\mathbf{x}^\\top A\\,\\mathbf{x}+\\mathbf{b}^\\top\\mathbf{x}+c$ with symmetric \\(A\\),\n",
    "$$\n",
    "\\nabla f(\\mathbf{x})= A\\mathbf{x} + \\mathbf{b}\n",
    "$$\n",
    "$$\n",
    "\\nabla^2 f(\\mathbf{x})= \\mathbf{A}\n",
    "$$"
   ]
  },
  {
   "cell_type": "markdown",
   "id": "3f735d0b",
   "metadata": {},
   "source": [
    "#### Convex Functions\n",
    "\n",
    "**Definition (convex).** Let $f:\\mathbb{R}^n\\to(-\\infty,+\\infty]$ with a **convex domain** $D$\n",
    " \n",
    "$f$ is **convex** if for all $x,y\\in D$ and $t\\in[0,1]$,\n",
    "$$\n",
    "f(tx+(1-t)y)\\ \\le\\ t\\,f(x)+(1-t)\\,f(y).\n",
    "$$\n",
    "It is **strictly convex** if the inequality is strict whenever $x\\neq y$ and $t\\in(0,1)$.\n",
    "\n",
    "**Second-order condition ($C^2$ on a convex domain).** $f$ is convex iff\n",
    "$$\n",
    "\\nabla^2 f(x)\\ \\succeq\\ 0\\quad \\text{for all }x\\in D.\n",
    "$$\n"
   ]
  },
  {
   "cell_type": "markdown",
   "id": "dd4e4e8c",
   "metadata": {},
   "source": [
    "PAPER and PEN EXERCISES\n",
    "\n",
    "3.b) **TODO**: Show the condition when $f(\\mathbf{x})=\\tfrac12\\,\\mathbf{x}^\\top A\\,\\mathbf{x}+\\mathbf{b}^\\top\\mathbf{x}+c$ is convex.\n",
    "\n",
    "$f(\\mathbf{x})$ is convex when its Hessian, $\\mathbf{A}$, is positive semidefinite."
   ]
  },
  {
   "cell_type": "markdown",
   "id": "6c43a464",
   "metadata": {},
   "source": [
    "\n",
    "## 4) Statistic\n",
    "\n",
    "**Topics:** Normal & Uniform distribution, Expectation, Variance"
   ]
  },
  {
   "cell_type": "markdown",
   "id": "39c05774",
   "metadata": {},
   "source": [
    "#### Basic definition\n",
    "- **Expectation (mean).**  \n",
    "Discrete: \n",
    "$$\n",
    "\\mathbb{E}[X]=\\sum_x x\\,\\mathbb{P}(X=x)\n",
    "$$\n",
    "Continuous:\n",
    "$$\n",
    "\\mathbb{E}[X]=\\int_{-\\infty}^{\\infty} x\\,f_X(x)\\,dx\n",
    "$$\n",
    "\n",
    "- **Variance.**\n",
    "$$\n",
    "\\operatorname{Var}(X)=\\mathbb{E}\\!\\left[(X-\\mathbb{E}[X])^2\\right]\n",
    "=\\mathbb{E}[X^2]-\\big(\\mathbb{E}[X]\\big)^2.\n",
    "$$\n",
    "\n",
    "- **Normal (Gaussian) distribution.** Define $X\\sim \\mathcal{N}(\\mu,\\sigma^2)$:\n",
    "$$\n",
    "f(x)=\\frac{1}{\\sqrt{2\\pi}\\,\\sigma}\\exp\\!\\left(-\\frac{(x-\\mu)^2}{2\\sigma^2}\\right),\\qquad\n",
    "\\mathbb{E}[X]=\\mu,\\quad \\operatorname{Var}(X)=\\sigma^2.\n",
    "$$\n",
    "\n",
    "- **Uniform distribution on \\([a,b]\\).** Define $X\\sim \\mathcal{U}(a,b)$,\n",
    "$$\n",
    "f(x)=\\frac{1}{b-a}\\quad (a\\le x\\le b),\\qquad\n",
    "\\mathbb{E}[X]=\\frac{a+b}{2},\\quad\n",
    "\\operatorname{Var}(X)=\\frac{(b-a)^2}{12}.\n",
    "$$"
   ]
  },
  {
   "cell_type": "code",
   "execution_count": 23,
   "id": "a3e60c2b",
   "metadata": {},
   "outputs": [
    {
     "name": "stdout",
     "output_type": "stream",
     "text": [
      "Normal sample mean/var ~ 1.9712472492752877 9.007666352482765\n",
      "Uniform sample mean/var ~ 2.0314531440541255 2.997708627709728\n",
      "Normal theory mean/var = 2.0 9.0\n",
      "Uniform theory mean/var = 2.0 3.0\n"
     ]
    }
   ],
   "source": [
    "#### CODING EXERCISES ####\n",
    "# 4.a) TODO: Normal distribution\n",
    "\n",
    "# Normal N(mu, sigma^2) (Hint: np.random.normal)\n",
    "mu, sigma = 2.0, 3.0\n",
    "z = np.random.normal(mu, sigma, 10000)\n",
    "print(\"Normal sample mean/var ~\", z.mean(), z.var())\n",
    "\n",
    "# 4.b) TODO: Uniform distribution \n",
    "\n",
    "# Uniform U(a, b) (Hint: np.random.uniform)\n",
    "a, b = -1.0, 5.0\n",
    "u = np.random.uniform(a,b,10000)\n",
    "print(\"Uniform sample mean/var ~\", u.mean(), u.var())\n",
    "\n",
    "# Theoretical checks\n",
    "print(\"Normal theory mean/var =\", mu, sigma**2)\n",
    "print(\"Uniform theory mean/var =\", (a+b)/2, (b-a)**2/12)\n"
   ]
  },
  {
   "cell_type": "markdown",
   "id": "cd00e3db",
   "metadata": {},
   "source": [
    "#### Bayes' Theorem\n",
    "\n",
    "**Statement** For events $A$ and $B$ with $\\mathbb{P}(B)>0$,\n",
    "$$\n",
    "\\mathbb{P}(A\\mid B)=\\frac{\\mathbb{P}(B\\mid A)\\,\\mathbb{P}(A)}{\\mathbb{P}(B)}.\n",
    "$$\n",
    "Here, $\\mathbb{P}(A)$ is the **prior**, $\\mathbb{P}(B\\mid A)$ the **likelihood**, $\\mathbb{P}(A\\mid B)$ the **posterior**, and $\\mathbb{P}(B)$ the **evidence**.\n",
    "\n",
    "**Total probability** If $\\{H_i\\}$ is a partition of the sample space,\n",
    "$$\n",
    "\\mathbb{P}(B)=\\sum_i \\mathbb{P}(B\\mid H_i)\\,\\mathbb{P}(H_i).\n",
    "$$\n"
   ]
  },
  {
   "cell_type": "markdown",
   "id": "f29e3060",
   "metadata": {},
   "source": [
    "PAPER and PEN EXERCISES\n",
    "\n",
    "4.c) **TODO**:\n",
    "\n",
    "You pick one of two boxes at random (each with probability $1/2$):\n",
    "- Box $A$: $3$ red ball, $1$ blue ball.\n",
    "- Box $B$: $1$ red ball, $3$ blue ball.\n",
    "\n",
    "You then draw one ball and observe it is red. What is $\\mathbb{P}(A \\mid \\text{red})$?\n",
    "3/4\n",
    "\n",
    "\n"
   ]
  },
  {
   "cell_type": "markdown",
   "id": "83a6b2e3",
   "metadata": {},
   "source": [
    "\n",
    "## 5) Optimization\n",
    "\n",
    "**Topics:** cvxpy, KKT condition."
   ]
  },
  {
   "cell_type": "markdown",
   "id": "52735510",
   "metadata": {},
   "source": [
    "#### Linear Programming Example\n",
    "\n",
    "We want to solve the following linear program:\n",
    "\n",
    "$$\n",
    "\\begin{aligned}\n",
    "\\max_{x,y}\\quad & x + y \\\\\n",
    "\\text{s.t.}\\quad \n",
    "& x + 2y \\leq 4, \\\\\n",
    "& 2x + y \\leq 6, \\\\\n",
    "& x \\geq 0,\\ y \\geq 0.\n",
    "\\end{aligned}\n",
    "$$\n"
   ]
  },
  {
   "cell_type": "code",
   "execution_count": 11,
   "id": "baf8da61",
   "metadata": {},
   "outputs": [
    {
     "data": {
      "image/png": "[encoded data removed]",
      "text/plain": [
       "<Figure size 600x600 with 1 Axes>"
      ]
     },
     "metadata": {},
     "output_type": "display_data"
    }
   ],
   "source": [
    "# visualization\n",
    "x = np.linspace(0, 5, 200)\n",
    "\n",
    "y1 = (4 - x) / 2\n",
    "y2 = 6 - 2*x\n",
    "\n",
    "# Feasible region: intersection\n",
    "plt.figure(figsize=(6,6))\n",
    "\n",
    "# Plot constraint lines\n",
    "plt.plot(x, y1, label=r\"$x+2y \\leq 4$\")\n",
    "plt.plot(x, y2, label=r\"$2x+y \\geq 6$\")\n",
    "\n",
    "# Fill feasible region\n",
    "y_upper = np.minimum(y1, y2)\n",
    "y_upper = np.maximum(y_upper, 0)  # ensure non-negative\n",
    "plt.fill_between(x, 0, y_upper, where=(y_upper>=0), color=\"lightblue\", alpha=0.5)\n",
    "\n",
    "# Mark optimal point (from CVXPY solution)\n",
    "opt_x, opt_y = 8/3, 2/3\n",
    "plt.plot(opt_x, opt_y, \"ro\", label=\"Optimal\")\n",
    "\n",
    "# Labels and formatting\n",
    "plt.xlim(0, 5)\n",
    "plt.ylim(0, 5)\n",
    "plt.xlabel(\"$x$\")\n",
    "plt.ylabel(\"$y$\")\n",
    "plt.title(\"Feasible Region and Optimal Solution\")\n",
    "plt.legend()\n",
    "plt.grid(True)\n",
    "plt.show()"
   ]
  },
  {
   "cell_type": "code",
   "execution_count": 25,
   "id": "6bca0349",
   "metadata": {},
   "outputs": [
    {
     "name": "stdout",
     "output_type": "stream",
     "text": [
      "status: optimal\n",
      "optimal value: 3.333333332201236\n",
      "optimal (x,y): 2.6666666676628243 0.6666666645384114\n"
     ]
    }
   ],
   "source": [
    "import cvxpy as cp\n",
    "\n",
    "#### CODING EXERCISES ####\n",
    "\n",
    "# 4.a) TODO: Define variables\n",
    "# Variables\n",
    "x = cp.Variable()\n",
    "y = cp.Variable()\n",
    "\n",
    "# 4.b) TODO: Define objectives\n",
    "# Objective: maximize x + y\n",
    "# (Hint: cp.Maximize)\n",
    "objective = cp.Maximize(x+y)\n",
    "\n",
    "# 4.c) TODO: Define constraints\n",
    "# Constraints:\n",
    "# x + 2y <= 4\n",
    "# 4x + 2y <= 12\n",
    "# x >= 0\n",
    "# y >= 0\n",
    "constraints = [\n",
    "    x + 2*y <= 4,\n",
    "    4*x + 2*y <= 12,\n",
    "    x >=0,\n",
    "    y >= 0\n",
    "]\n",
    "\n",
    "# Problem definition\n",
    "# (Hint: cp.Problem)\n",
    "problem = cp.Problem(objective, constraints)\n",
    "\n",
    "# Solve\n",
    "problem.solve()\n",
    "\n",
    "print(\"status:\", problem.status)\n",
    "print(\"optimal value:\", problem.value)\n",
    "print(\"optimal (x,y):\", x.value, y.value)"
   ]
  },
  {
   "cell_type": "markdown",
   "id": "8a03fa0f",
   "metadata": {},
   "source": [
    "#### KKT condition\n",
    "\n",
    "You don't need to fully understand but learn to use it as a tool.\n",
    "\n",
    "The **Karush–Kuhn–Tucker (KKT) conditions** are necessary conditions for a solution $x^*$ to be optimal in a constrained optimization problem of the form:\n",
    "\n",
    "$$\n",
    "\\begin{aligned}\n",
    "\\min_{x}\\quad & f(x) \\\\\n",
    "\\text{s.t.}\\quad & g_i(x) \\leq 0,\\quad i=1,\\dots,m, \\\\\n",
    "& h_j(x) = 0,\\quad j=1,\\dots,p.\n",
    "\\end{aligned}\n",
    "$$\n",
    "\n",
    "**KKT conditions** (assuming regularity conditions hold):\n",
    "\n",
    "1. **Primal feasibility**  \n",
    "   $$\n",
    "   g_i(x^*) \\leq 0, \\quad h_j(x^*) = 0\n",
    "   $$\n",
    "\n",
    "2. **Dual feasibility**  \n",
    "   $$\n",
    "   \\lambda_i \\geq 0, \\quad i=1,\\dots,m\n",
    "   $$\n",
    "\n",
    "3. **Stationarity**  \n",
    "   $$\n",
    "   \\nabla f(x^*) + \\sum_{i=1}^m \\lambda_i \\nabla g_i(x^*) + \\sum_{j=1}^p \\mu_j \\nabla h_j(x^*) = 0\n",
    "   $$\n",
    "\n",
    "4. **Complementary slackness**  \n",
    "   $$\n",
    "   \\lambda_i g_i(x^*) = 0, \\quad i=1,\\dots,m\n",
    "   $$\n",
    "\n",
    "Here:\n",
    "- $\\lambda_i$ is defined as **Lagrange multipliers** for inequality constraints.\n",
    "- $\\mu_j$ is defined as **Lagrange multipliers** for equality constraints."
   ]
  },
  {
   "cell_type": "markdown",
   "id": "d7d6b67b",
   "metadata": {},
   "source": [
    "PAPER and PEN EXERCISES\n",
    "\n",
    "5. a) **TODO**: Solve KKT by hand\n",
    "\n",
    "We solve\n",
    "$$\n",
    "\\begin{aligned}\n",
    "\\min_{x\\in\\mathbb{R}^2}\\quad & f(x)=x^\\top x + c^\\top x,\\quad c=\\begin{bmatrix}-2\\\\-6\\end{bmatrix} \\\\\n",
    "\\text{s.t.}\\quad & a^\\top x = 3,\\quad a=\\begin{bmatrix}1\\\\1\\end{bmatrix},\\\\\n",
    "& x \\ge 0\n",
    "\\end{aligned}\n",
    "$$\n",
    "\n",
    "**KKT (by hand)** :"
   ]
  },
  {
   "cell_type": "code",
   "execution_count": 34,
   "id": "c0996848",
   "metadata": {},
   "outputs": [
    {
     "name": "stdout",
     "output_type": "stream",
     "text": [
      "status: optimal\n",
      "x* (cvxpy): [0.5 2.5]\n"
     ]
    }
   ],
   "source": [
    "#### CODING EXERCISES ####\n",
    "# 5. b) Verify using cvxpy\n",
    "c = np.array([-2.0, -6.0])\n",
    "a = np.array([1.0, 1.0])\n",
    "\n",
    "x = cp.Variable(2)\n",
    "objective = cp.Minimize(cp.sum_squares(x) + c@x)\n",
    "con_eq = [a@x == 3]\n",
    "con_nn = [-x <= 0]\n",
    "prob = cp.Problem(objective, con_eq + con_nn)\n",
    "prob.solve()\n",
    "\n",
    "x_cvx = x.value\n",
    "mu = con_eq[0].dual_value     # equality multiplier\n",
    "nu = con_nn[0].dual_value     # inequality multipliers\n",
    "\n",
    "print(\"status:\", prob.status)\n",
    "print(\"x* (cvxpy):\", x_cvx)"
   ]
  },
  {
   "cell_type": "markdown",
   "id": "84e7f502",
   "metadata": {},
   "source": [
    "\n",
    "## 6) Gym environment\n",
    "\n",
    "Just have fun interacting with gym!"
   ]
  },
  {
   "cell_type": "code",
   "execution_count": 26,
   "id": "5c837b14",
   "metadata": {},
   "outputs": [],
   "source": [
    "import gymnasium as gym\n",
    "\n",
    "# Build deterministic FrozenLake env\n",
    "env = gym.make(\"FrozenLake-v1\", map_name=\"4x4\", is_slippery=False)\n",
    "obs, info = env.reset(seed=42)\n",
    "\n",
    "episode_return = 0.0\n",
    "done = False\n",
    "\n",
    "# --- Helpers ---\n",
    "def _colors(desc):\n",
    "    code_map = {b'H': 0, b'F': 1, b'S': 2, b'G': 3}\n",
    "    return np.vectorize(lambda b: code_map[b])(desc)\n",
    "\n",
    "def draw_board(desc, s):\n",
    "    nrow, ncol = desc.shape\n",
    "    grid = _colors(desc)\n",
    "    from matplotlib.colors import ListedColormap\n",
    "    cmap = ListedColormap([\n",
    "        (0,0,0),        # hole\n",
    "        (0.7,0.85,1.0), # ice\n",
    "        (0.2,0.7,0.2),  # start\n",
    "        (1.0,0.84,0.0)  # goal\n",
    "    ])\n",
    "    fig, ax = plt.subplots(figsize=(4,4))\n",
    "    ax.imshow(grid, cmap=cmap, vmin=0, vmax=3)\n",
    "    ax.set_xticks(np.arange(-0.5, ncol, 1), minor=True)\n",
    "    ax.set_yticks(np.arange(-0.5, nrow, 1), minor=True)\n",
    "    ax.grid(which=\"minor\", color=\"white\", linewidth=2)\n",
    "    ax.set_xticks([])\n",
    "    ax.set_yticks([])\n",
    "    r, c = divmod(int(s), ncol)\n",
    "    ax.plot(c, r, marker=\"o\", markersize=18,\n",
    "            markeredgecolor=\"white\", markerfacecolor=\"red\")\n",
    "    plt.title(\"FrozenLake-v1 (4x4)\")\n",
    "    plt.show()\n",
    "\n",
    "def step_once(action):\n",
    "    global obs, done, episode_return\n",
    "    if done:\n",
    "        print(\"Episode finished. Please reset the env.\")\n",
    "        return\n",
    "    step = env.step(action)\n",
    "    if len(step) == 5:\n",
    "        obs, reward, terminated, truncated, info = step\n",
    "        done = terminated or truncated\n",
    "    else:\n",
    "        obs, reward, done, info = step\n",
    "    episode_return += reward\n",
    "    print(f\"Action {action}, Reward {reward}, Return {episode_return}, Done {done}\")\n",
    "    draw_board(env.unwrapped.desc, env.unwrapped.s)\n",
    "\n",
    "def reset_env(seed=None):\n",
    "    global obs, done, episode_return\n",
    "    obs, info = env.reset(seed=seed)\n",
    "    done = False\n",
    "    episode_return = 0.0\n",
    "    print(\"Environment reset.\")"
   ]
  },
  {
   "cell_type": "code",
   "execution_count": 27,
   "id": "1cfddea0",
   "metadata": {},
   "outputs": [
    {
     "name": "stdout",
     "output_type": "stream",
     "text": [
      "Environment reset.\n"
     ]
    }
   ],
   "source": [
    "# Run this when you start a new game\n",
    "reset_env(seed=42)"
   ]
  },
  {
   "cell_type": "code",
   "execution_count": 32,
   "id": "db3bffab",
   "metadata": {},
   "outputs": [
    {
     "name": "stdout",
     "output_type": "stream",
     "text": [
      "Episode finished. Please reset the env.\n"
     ]
    }
   ],
   "source": [
    "step_once(2)   # do action=2 (right)\n",
    "# change the step yourself and see what happens\n",
    "# 0: left, 1: down, 2: right, 3: up"
   ]
  },
  {
   "cell_type": "code",
   "execution_count": null,
   "id": "8908dee9",
   "metadata": {},
   "outputs": [],
   "source": []
  }
 ],
 "metadata": {
  "kernelspec": {
   "display_name": "am158",
   "language": "python",
   "name": "python3"
  },
  "language_info": {
   "codemirror_mode": {
    "name": "ipython",
    "version": 3
   },
   "file_extension": ".py",
   "mimetype": "text/x-python",
   "name": "python",
   "nbconvert_exporter": "python",
   "pygments_lexer": "ipython3",
   "version": "3.12.2"
  }
 },
 "nbformat": 4,
 "nbformat_minor": 5
}
